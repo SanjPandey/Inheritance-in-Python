{
 "cells": [
  {
   "cell_type": "markdown",
   "id": "7b097506",
   "metadata": {},
   "source": [
    "# Inheritance"
   ]
  },
  {
   "cell_type": "code",
   "execution_count": 2,
   "id": "8273e518",
   "metadata": {},
   "outputs": [],
   "source": [
    "class calc():\n",
    "    \n",
    "    def add(self,a,b):\n",
    "        print(a+b)"
   ]
  },
  {
   "cell_type": "code",
   "execution_count": 4,
   "id": "f591755b",
   "metadata": {},
   "outputs": [],
   "source": [
    "class calc1(calc):\n",
    "    \n",
    "    def sub(self,a,b):\n",
    "        print(a-b)"
   ]
  },
  {
   "cell_type": "code",
   "execution_count": 5,
   "id": "5bf9be8a",
   "metadata": {},
   "outputs": [],
   "source": [
    "a=calc1()"
   ]
  },
  {
   "cell_type": "code",
   "execution_count": 6,
   "id": "23e64fe0",
   "metadata": {},
   "outputs": [
    {
     "name": "stdout",
     "output_type": "stream",
     "text": [
      "9\n"
     ]
    }
   ],
   "source": [
    "a.add(4,5)"
   ]
  },
  {
   "cell_type": "code",
   "execution_count": 7,
   "id": "a02a4070",
   "metadata": {},
   "outputs": [
    {
     "name": "stdout",
     "output_type": "stream",
     "text": [
      "2\n"
     ]
    }
   ],
   "source": [
    "a.sub(6,4)"
   ]
  },
  {
   "cell_type": "markdown",
   "id": "449a4ffb",
   "metadata": {},
   "source": [
    "# Multilevel Inheritance"
   ]
  },
  {
   "cell_type": "code",
   "execution_count": 12,
   "id": "9508e73b",
   "metadata": {},
   "outputs": [
    {
     "name": "stdout",
     "output_type": "stream",
     "text": [
      "7\n",
      "1\n",
      "20\n"
     ]
    }
   ],
   "source": [
    "class calc():\n",
    "    def add(self,a,b):\n",
    "        print(a+b)\n",
    "        \n",
    "class calc1(calc):\n",
    "    def sub(self,a,b):\n",
    "        print(a-b)\n",
    "        \n",
    "class calc2(calc1):\n",
    "    def mul(self,a,b):\n",
    "        print(a*b)\n",
    "        \n",
    "a=calc2()\n",
    "a.add(4,3)\n",
    "a.sub(4,3)\n",
    "a.mul(4,5)\n",
    "        \n"
   ]
  },
  {
   "cell_type": "markdown",
   "id": "2fb80146",
   "metadata": {},
   "source": [
    "# Multiple Inheritance : In Multiple Inheritance we pass the parent class,and child class  reference to Grand Child class"
   ]
  },
  {
   "cell_type": "code",
   "execution_count": 13,
   "id": "42873942",
   "metadata": {},
   "outputs": [
    {
     "name": "stdout",
     "output_type": "stream",
     "text": [
      "9\n",
      "1\n",
      "20\n"
     ]
    }
   ],
   "source": [
    "class calc():\n",
    "    def add(self,a,b):\n",
    "        print(a+b)\n",
    "        \n",
    "class calc1():\n",
    "    def sub(self,a,b):\n",
    "        print(a-b)\n",
    "        \n",
    "class calc2(calc,calc1):\n",
    "    def mul(self,a,b):\n",
    "        print(a*b)\n",
    "        \n",
    "a=calc2()\n",
    "a.add(5,4)\n",
    "a.sub(5,4)\n",
    "a.mul(5,4)"
   ]
  },
  {
   "cell_type": "markdown",
   "id": "245603e8",
   "metadata": {},
   "source": [
    "# Hierarchical Inheritance: In this  parent class refference  pass in to all child class"
   ]
  },
  {
   "cell_type": "code",
   "execution_count": 17,
   "id": "05a367e5",
   "metadata": {},
   "outputs": [
    {
     "name": "stdout",
     "output_type": "stream",
     "text": [
      "9\n",
      "20\n"
     ]
    }
   ],
   "source": [
    "class calc():\n",
    "    def add(self,a,b):\n",
    "        print(a+b)\n",
    "        \n",
    "class calc1(calc):\n",
    "    def sub(self,a,b):\n",
    "        print(a-b)\n",
    "        \n",
    "class calc2(calc):\n",
    "    def mul(self,a,b):\n",
    "        print(a*b)\n",
    "        \n",
    "a=calc2()\n",
    "a.add(5,4)\n",
    "a.mul(5,4)"
   ]
  },
  {
   "cell_type": "code",
   "execution_count": 18,
   "id": "2240745e",
   "metadata": {},
   "outputs": [
    {
     "name": "stdout",
     "output_type": "stream",
     "text": [
      "parent\n"
     ]
    }
   ],
   "source": [
    "class parent():\n",
    "    \n",
    "    def __init__(self):\n",
    "        self.name=\"parent\"\n",
    "        \n",
    "class child(parent):\n",
    "    \n",
    "    def test(self):\n",
    "        print(\"test\")\n",
    "        \n",
    "a=child()\n",
    "print(a.name)"
   ]
  },
  {
   "cell_type": "markdown",
   "id": "0f514faf",
   "metadata": {},
   "source": [
    "# if we have two constructor within two class,then at a time only one constructor will be execute\n",
    "# we didnt able to call both constructor  at a time . when we try this,its throws error. #To resolve this issue we have super.__init__() constructor\n",
    "\n"
   ]
  },
  {
   "cell_type": "code",
   "execution_count": 19,
   "id": "3a6d79d0",
   "metadata": {},
   "outputs": [
    {
     "ename": "AttributeError",
     "evalue": "'child' object has no attribute 'name'",
     "output_type": "error",
     "traceback": [
      "\u001b[1;31m---------------------------------------------------------------------------\u001b[0m",
      "\u001b[1;31mAttributeError\u001b[0m                            Traceback (most recent call last)",
      "Cell \u001b[1;32mIn[19], line 14\u001b[0m\n\u001b[0;32m     11\u001b[0m         \u001b[38;5;28mprint\u001b[39m(\u001b[38;5;124m\"\u001b[39m\u001b[38;5;124mtest\u001b[39m\u001b[38;5;124m\"\u001b[39m)\n\u001b[0;32m     13\u001b[0m a\u001b[38;5;241m=\u001b[39mchild()\n\u001b[1;32m---> 14\u001b[0m a\u001b[38;5;241m.\u001b[39mname()\n",
      "\u001b[1;31mAttributeError\u001b[0m: 'child' object has no attribute 'name'"
     ]
    }
   ],
   "source": [
    "class parent():\n",
    "    def init__(self):\n",
    "        self.name=\"parent\"\n",
    "        \n",
    "class child():\n",
    "    \n",
    "    def __init__(self):\n",
    "        self.child=\"child\"\n",
    "        \n",
    "    def test(self):\n",
    "        print(\"test\")\n",
    "        \n",
    "a=child()\n",
    "a.name()"
   ]
  },
  {
   "cell_type": "markdown",
   "id": "ac545e54",
   "metadata": {},
   "source": [
    "# super.__init__() Constructor"
   ]
  },
  {
   "cell_type": "code",
   "execution_count": null,
   "id": "effaddd1",
   "metadata": {},
   "outputs": [],
   "source": [
    "# if we have two constructor within two class,then at a time only one constructor will be execute\n",
    "# we didnt able to call both constructor  at a time .\n",
    "#To resolve this issue we have super.__init__() constructor"
   ]
  },
  {
   "cell_type": "code",
   "execution_count": 22,
   "id": "b5aa17ad",
   "metadata": {},
   "outputs": [
    {
     "name": "stdout",
     "output_type": "stream",
     "text": [
      "child\n",
      "parent\n"
     ]
    }
   ],
   "source": [
    "class parent():\n",
    "    def __init__(self):\n",
    "        self.name=\"parent\"\n",
    "        \n",
    "class child(parent):\n",
    "    \n",
    "    def __init__(self):\n",
    "        super(). __init__()\n",
    "        self.child=\"child\"\n",
    "        \n",
    "    def test(self):\n",
    "        print(\"test\")\n",
    "        \n",
    "a=child()\n",
    "print(a.child)\n",
    "print(a.name)"
   ]
  },
  {
   "cell_type": "code",
   "execution_count": null,
   "id": "63468cb4",
   "metadata": {},
   "outputs": [],
   "source": []
  }
 ],
 "metadata": {
  "kernelspec": {
   "display_name": "Python 3 (ipykernel)",
   "language": "python",
   "name": "python3"
  },
  "language_info": {
   "codemirror_mode": {
    "name": "ipython",
    "version": 3
   },
   "file_extension": ".py",
   "mimetype": "text/x-python",
   "name": "python",
   "nbconvert_exporter": "python",
   "pygments_lexer": "ipython3",
   "version": "3.11.5"
  }
 },
 "nbformat": 4,
 "nbformat_minor": 5
}
